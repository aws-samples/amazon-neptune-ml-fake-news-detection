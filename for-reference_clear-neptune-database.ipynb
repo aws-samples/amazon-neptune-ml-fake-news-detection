{
 "cells": [
  {
   "cell_type": "markdown",
   "id": "8129e75d-aef9-4cf6-863b-5793cda8a128",
   "metadata": {
    "tags": []
   },
   "source": [
    "# Optional: Reset the Amazon Neptune Database\n",
    "This is an optional notebook. Only run this notebook if you want to clear the database."
   ]
  },
  {
   "cell_type": "code",
   "execution_count": null,
   "id": "f9a966dc-7eac-491f-906d-ce7af260d411",
   "metadata": {
    "tags": []
   },
   "outputs": [],
   "source": [
    "%db_reset --generate-token"
   ]
  },
  {
   "cell_type": "markdown",
   "id": "d1118b82-2c8e-43de-809e-90e55b0e12c3",
   "metadata": {},
   "source": [
    "<div class=\"alert alert-warning\">\n",
    "If you run the below cells with the generated token, it will RESET THE DATABASE. you CANNOT undo this action. "
   ]
  },
  {
   "cell_type": "markdown",
   "id": "a68828d7-1198-4096-aac1-0aa1b6b6e211",
   "metadata": {
    "tags": []
   },
   "source": [
    "### copy the token from above\n",
    "use the above generated token, without quotes, to reset the database"
   ]
  },
  {
   "cell_type": "code",
   "execution_count": null,
   "id": "4a7ea8dc",
   "metadata": {},
   "outputs": [],
   "source": [
    "%db_reset --token new_token_guid"
   ]
  }
 ],
 "metadata": {
  "kernelspec": {
   "display_name": "Python 3",
   "language": "python",
   "name": "python3"
  },
  "language_info": {
   "codemirror_mode": {
    "name": "ipython",
    "version": 3
   },
   "file_extension": ".py",
   "mimetype": "text/x-python",
   "name": "python",
   "nbconvert_exporter": "python",
   "pygments_lexer": "ipython3",
   "version": "3.10.8"
  }
 },
 "nbformat": 4,
 "nbformat_minor": 5
}
